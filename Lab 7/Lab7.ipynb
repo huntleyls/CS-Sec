{
 "cells": [
  {
   "cell_type": "markdown",
   "metadata": {},
   "source": [
    "Lab 7"
   ]
  },
  {
   "cell_type": "code",
   "execution_count": 36,
   "metadata": {},
   "outputs": [],
   "source": [
    "import pandas as pd\n",
    "import tldextract\n",
    "import wordsegment\n",
    "wordsegment.load()"
   ]
  },
  {
   "cell_type": "markdown",
   "metadata": {},
   "source": [
    "Task 1"
   ]
  },
  {
   "cell_type": "code",
   "execution_count": 37,
   "metadata": {},
   "outputs": [
    {
     "data": {
      "text/html": [
       "<div>\n",
       "<style scoped>\n",
       "    .dataframe tbody tr th:only-of-type {\n",
       "        vertical-align: middle;\n",
       "    }\n",
       "\n",
       "    .dataframe tbody tr th {\n",
       "        vertical-align: top;\n",
       "    }\n",
       "\n",
       "    .dataframe thead th {\n",
       "        text-align: right;\n",
       "    }\n",
       "</style>\n",
       "<table border=\"1\" class=\"dataframe\">\n",
       "  <thead>\n",
       "    <tr style=\"text-align: right;\">\n",
       "      <th></th>\n",
       "      <th>urls</th>\n",
       "    </tr>\n",
       "  </thead>\n",
       "  <tbody>\n",
       "    <tr>\n",
       "      <th>0</th>\n",
       "      <td>https://youtube.com</td>\n",
       "    </tr>\n",
       "    <tr>\n",
       "      <th>1</th>\n",
       "      <td>https://github.com</td>\n",
       "    </tr>\n",
       "    <tr>\n",
       "      <th>2</th>\n",
       "      <td>https://stackoverflow.com</td>\n",
       "    </tr>\n",
       "    <tr>\n",
       "      <th>3</th>\n",
       "      <td>https://nordvpn.com</td>\n",
       "    </tr>\n",
       "    <tr>\n",
       "      <th>4</th>\n",
       "      <td>https://myanimelist.net</td>\n",
       "    </tr>\n",
       "    <tr>\n",
       "      <th>5</th>\n",
       "      <td>https://amazon.com</td>\n",
       "    </tr>\n",
       "    <tr>\n",
       "      <th>6</th>\n",
       "      <td>https://napavalleytoukraine.org</td>\n",
       "    </tr>\n",
       "    <tr>\n",
       "      <th>7</th>\n",
       "      <td>https://sunflower-ukraine.org</td>\n",
       "    </tr>\n",
       "    <tr>\n",
       "      <th>8</th>\n",
       "      <td>https://theukrainewar.org</td>\n",
       "    </tr>\n",
       "    <tr>\n",
       "      <th>9</th>\n",
       "      <td>https://goalsforukraine.hockey</td>\n",
       "    </tr>\n",
       "  </tbody>\n",
       "</table>\n",
       "</div>"
      ],
      "text/plain": [
       "                              urls\n",
       "0              https://youtube.com\n",
       "1               https://github.com\n",
       "2        https://stackoverflow.com\n",
       "3              https://nordvpn.com\n",
       "4          https://myanimelist.net\n",
       "5               https://amazon.com\n",
       "6  https://napavalleytoukraine.org\n",
       "7    https://sunflower-ukraine.org\n",
       "8        https://theukrainewar.org\n",
       "9   https://goalsforukraine.hockey"
      ]
     },
     "execution_count": 37,
     "metadata": {},
     "output_type": "execute_result"
    }
   ],
   "source": [
    "url_data = pd.read_csv('inputurls.csv')\n",
    "url_data.head(10)"
   ]
  },
  {
   "cell_type": "markdown",
   "metadata": {},
   "source": [
    "Task 2"
   ]
  },
  {
   "cell_type": "code",
   "execution_count": 38,
   "metadata": {},
   "outputs": [
    {
     "name": "stdout",
     "output_type": "stream",
     "text": [
      "urls    object\n",
      "dtype: object\n"
     ]
    }
   ],
   "source": [
    "wordDic ={}\n"
   ]
  },
  {
   "cell_type": "markdown",
   "metadata": {},
   "source": [
    "Task 3"
   ]
  },
  {
   "cell_type": "code",
   "execution_count": 39,
   "metadata": {},
   "outputs": [
    {
     "name": "stdout",
     "output_type": "stream",
     "text": [
      "{'youtube': 1, 'git': 1, 'hub': 1, 'stack': 1, 'overflow': 1, 'nord': 1, 'vpn': 1, 'my': 1, 'anime': 1, 'list': 1, 'amazon': 1, 'napa': 1, 'valley': 1, 'to': 1, 'ukraine': 11, 'sunflower': 1, 'the': 1, 'war': 1, 'goals': 1, 'for': 4, 'donation': 1, 'dev': 1, 'clevedon': 1, 'ukrainian': 1, 'support': 1, 'hearts': 1, 'mission': 1, 'pucks': 1, 'people': 1, 'assist': 1}\n"
     ]
    }
   ],
   "source": [
    "for index, row in url_data.iterrows():\n",
    "    url = row['urls']\n",
    "    ext = tldextract.extract(url)\n",
    "    domain = ext.domain\n",
    "\n",
    "    keywords = wordsegment.segment(domain)\n",
    "    for keyword in keywords:\n",
    "        keyword = keyword.strip().lower() \n",
    "        if keyword not in wordDic:\n",
    "            wordDic[keyword] = 1\n",
    "        else:\n",
    "            wordDic[keyword] += 1\n",
    "\n",
    "print(wordDic)\n"
   ]
  },
  {
   "cell_type": "markdown",
   "metadata": {},
   "source": [
    "Task 4"
   ]
  },
  {
   "cell_type": "code",
   "execution_count": 40,
   "metadata": {},
   "outputs": [
    {
     "name": "stdout",
     "output_type": "stream",
     "text": [
      "Output written to output.csv\n"
     ]
    }
   ],
   "source": [
    "data_output = pd.DataFrame(list(wordDic.items()), columns=['Keyword', 'Count'])\n",
    "data_output = data_output.sort_values('Count', ascending=False)\n",
    "data_output.to_csv('output.csv', index=False)\n",
    "print(\"Output written to output.csv\")"
   ]
  }
 ],
 "metadata": {
  "kernelspec": {
   "display_name": "Python 3 (ipykernel)",
   "language": "python",
   "name": "python3"
  },
  "language_info": {
   "codemirror_mode": {
    "name": "ipython",
    "version": 3
   },
   "file_extension": ".py",
   "mimetype": "text/x-python",
   "name": "python",
   "nbconvert_exporter": "python",
   "pygments_lexer": "ipython3",
   "version": "3.9.13"
  }
 },
 "nbformat": 4,
 "nbformat_minor": 2
}
