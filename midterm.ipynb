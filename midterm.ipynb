{
 "cells": [
  {
   "cell_type": "code",
   "execution_count": 16,
   "metadata": {},
   "outputs": [
    {
     "name": "stdout",
     "output_type": "stream",
     "text": [
      "    EmployeeID  login_count\n",
      "0        10100           36\n",
      "1        10101           36\n",
      "2        10102           45\n",
      "3        10103           55\n",
      "4        10104           35\n",
      "..         ...          ...\n",
      "95       10195           50\n",
      "96       10196           41\n",
      "97       10197           35\n",
      "98       10198          370\n",
      "99       10199           40\n",
      "\n",
      "[100 rows x 2 columns]\n"
     ]
    }
   ],
   "source": [
    "import pandas as pd\n",
    "\n",
    "data = pd.read_csv(\"datalog .csv\")\n",
    "data = data[data['Action'] == 'login']\n",
    "data = data[data['Result']== 'success']\n",
    "data['Datetime'] = pd.to_datetime(data['Datetime'])\n",
    "data['hour'] = data['Datetime'].dt.hour  \n",
    "data['login_before_6_or_after_18'] = (data['hour'] < 6) | (data['hour'] > 18)  \n",
    "data = data[data['login_before_6_or_after_18'] == True]\n",
    "login_counts = data.groupby('EmployeeID').size().reset_index(name='login_count')\n",
    "print(login_counts)\n",
    "\n",
    "\n"
   ]
  },
  {
   "cell_type": "code",
   "execution_count": null,
   "metadata": {},
   "outputs": [],
   "source": [
    "import pandas as pd\n",
    "data = pd.read_csv('data.csv')\n",
    "data[['Activity', 'DateTime']] = data['Activity-Date;Time'].str.split('-', n=1, expand=True)\n",
    "data[['Date', 'Time']] = data['DateTime'].str.split(';', n=1, expand=True)\n",
    "data.drop(['Activity-Date;Time', 'DateTime'], axis=1, inplace=True)\n",
    "data.to_csv('updated_data.csv', index=False)\n"
   ]
  }
 ],
 "metadata": {
  "kernelspec": {
   "display_name": "Python 3",
   "language": "python",
   "name": "python3"
  },
  "language_info": {
   "codemirror_mode": {
    "name": "ipython",
    "version": 3
   },
   "file_extension": ".py",
   "mimetype": "text/x-python",
   "name": "python",
   "nbconvert_exporter": "python",
   "pygments_lexer": "ipython3",
   "version": "3.9.13"
  },
  "orig_nbformat": 4
 },
 "nbformat": 4,
 "nbformat_minor": 2
}
