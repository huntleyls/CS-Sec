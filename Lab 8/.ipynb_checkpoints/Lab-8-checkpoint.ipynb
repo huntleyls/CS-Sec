{
 "cells": [
  {
   "cell_type": "code",
   "execution_count": 1,
   "metadata": {},
   "outputs": [],
   "source": [
    "import pandas as pd\n",
    "import ipaddress\n",
    "import matplotlib.pyplot as plt"
   ]
  },
  {
   "cell_type": "markdown",
   "metadata": {},
   "source": [
    "Task 1"
   ]
  },
  {
   "cell_type": "code",
   "execution_count": 2,
   "metadata": {},
   "outputs": [
    {
     "name": "stdout",
     "output_type": "stream",
     "text": [
      "              url\n",
      "0    facebook.com\n",
      "1    a-msedge.net\n",
      "2     youtube.com\n",
      "3   microsoft.com\n",
      "4   amazonaws.com\n",
      "..            ...\n",
      "95       ebay.com\n",
      "96  google.com.hk\n",
      "97    nytimes.com\n",
      "98     fandom.com\n",
      "99    dropbox.com\n",
      "\n",
      "[100 rows x 1 columns]\n"
     ]
    }
   ],
   "source": [
    "tranco_data = pd.read_csv('tranco_Y5G4G.csv')\n",
    "tranco_data.columns = ['num', 'url']\n",
    "tranco_data = tranco_data.loc[:, ['url']]\n",
    "tranco_data = tranco_data[:100]\n",
    "print(tranco_data)"
   ]
  },
  {
   "cell_type": "code",
   "execution_count": 3,
   "metadata": {},
   "outputs": [
    {
     "name": "stdout",
     "output_type": "stream",
     "text": [
      "                     url\n",
      "0             google.com\n",
      "1           facebook.com\n",
      "2            youtube.com\n",
      "3            twitter.com\n",
      "4          instagram.com\n",
      "..                   ...\n",
      "95  youtube-nocookie.com\n",
      "96             nginx.com\n",
      "97              imdb.com\n",
      "98         bloomberg.com\n",
      "99           harvard.edu\n",
      "\n",
      "[100 rows x 1 columns]\n"
     ]
    }
   ],
   "source": [
    "mm_data = pd.read_csv('majestic_million.csv')\n",
    "mm_data = mm_data[:100]\n",
    "mm_data = mm_data.loc[:, ['Domain']]\n",
    "mm_data = mm_data.rename(columns={'Domain': 'url'})\n",
    "print(mm_data)\n"
   ]
  },
  {
   "cell_type": "code",
   "execution_count": 4,
   "metadata": {},
   "outputs": [
    {
     "name": "stdout",
     "output_type": "stream",
     "text": [
      "                       url\n",
      "0     vysodagiva0.xhost.ro\n",
      "1           188.128.111.33\n",
      "2           115.28.157.120\n",
      "3   woodfloorcreations.com\n",
      "4           115.28.157.120\n",
      "..                     ...\n",
      "95       segurosandina.com\n",
      "96   christmascartoons.org\n",
      "97   christmascartoons.org\n",
      "98              mautam.org\n",
      "99              ehss.co.th\n",
      "\n",
      "[100 rows x 1 columns]\n"
     ]
    },
    {
     "name": "stderr",
     "output_type": "stream",
     "text": [
      "C:\\Users\\Lucas\\AppData\\Local\\Temp\\ipykernel_1064\\685111792.py:7: FutureWarning: The default value of regex will change from True to False in a future version.\n",
      "  phish_data['url'] = phish_data['url'].str.replace(string, '')\n"
     ]
    }
   ],
   "source": [
    "phish_data = pd.read_csv('./PhishTank-online-banking-phishing-urls-final.csv')\n",
    "phish_data = phish_data.loc[:, ['Indicator']]\n",
    "phish_data = phish_data[:100]\n",
    "remove = ['http://', 'ftp://','www.']\n",
    "phish_data = phish_data.rename(columns={'Indicator': 'url'})\n",
    "for string in remove:\n",
    "    phish_data['url'] = phish_data['url'].str.replace(string, '')\n",
    "phish_data['url'] = phish_data['url'].str.split('/', expand=True).get(0)\n",
    "phish_data['url'] = phish_data['url'].str.strip()\n",
    "\n",
    "\n",
    "print(phish_data)"
   ]
  },
  {
   "cell_type": "code",
   "execution_count": 5,
   "metadata": {},
   "outputs": [
    {
     "name": "stdout",
     "output_type": "stream",
     "text": [
      "                    url\n",
      "0    ns1.backdates0.org\n",
      "1   ns1.backdates10.com\n",
      "2   ns1.backdates12.com\n",
      "3   ns1.backdates14.com\n",
      "4   ns1.backdates18.com\n",
      "..                  ...\n",
      "95    ngbmfsbuql.yi.org\n",
      "96          oalierb.com\n",
      "97     pcajqcaof.yi.org\n",
      "98    qpyosxkmcc.yi.org\n",
      "99     qwzsprieo.yi.org\n",
      "\n",
      "[100 rows x 1 columns]\n"
     ]
    }
   ],
   "source": [
    "c2_data = pd.read_csv('./c2-allmasterlist-high.txt', sep=',', skiprows=21, header=None,)\n",
    "c2_data = c2_data.loc[:, [0]]\n",
    "c2_data = c2_data.rename(columns={0: 'url'})\n",
    "c2_data = c2_data[:100]\n",
    "print(c2_data)"
   ]
  },
  {
   "cell_type": "markdown",
   "metadata": {},
   "source": [
    "Task 2"
   ]
  },
  {
   "cell_type": "code",
   "execution_count": 6,
   "metadata": {},
   "outputs": [],
   "source": [
    "def extract_domain(url):\n",
    "    try:\n",
    "        ipaddress.ip_address(url)\n",
    "        return url\n",
    "    except ValueError:\n",
    "        return '.'.join(url.split('.')[-2:-1])\n",
    "    \n",
    "def extract_tld(url):\n",
    "    try:\n",
    "        ipaddress.ip_address(url)\n",
    "        return url\n",
    "    except ValueError:\n",
    "        return url.split('.')[-1]"
   ]
  },
  {
   "cell_type": "code",
   "execution_count": 7,
   "metadata": {},
   "outputs": [
    {
     "data": {
      "text/html": [
       "<div>\n",
       "<style scoped>\n",
       "    .dataframe tbody tr th:only-of-type {\n",
       "        vertical-align: middle;\n",
       "    }\n",
       "\n",
       "    .dataframe tbody tr th {\n",
       "        vertical-align: top;\n",
       "    }\n",
       "\n",
       "    .dataframe thead th {\n",
       "        text-align: right;\n",
       "    }\n",
       "</style>\n",
       "<table border=\"1\" class=\"dataframe\">\n",
       "  <thead>\n",
       "    <tr style=\"text-align: right;\">\n",
       "      <th></th>\n",
       "      <th>url</th>\n",
       "      <th>domain</th>\n",
       "      <th>tld</th>\n",
       "      <th>domain_length</th>\n",
       "      <th>domain_length_group</th>\n",
       "    </tr>\n",
       "  </thead>\n",
       "  <tbody>\n",
       "    <tr>\n",
       "      <th>0</th>\n",
       "      <td>facebook.com</td>\n",
       "      <td>facebook</td>\n",
       "      <td>com</td>\n",
       "      <td>8</td>\n",
       "      <td>6-10</td>\n",
       "    </tr>\n",
       "    <tr>\n",
       "      <th>1</th>\n",
       "      <td>a-msedge.net</td>\n",
       "      <td>a-msedge</td>\n",
       "      <td>net</td>\n",
       "      <td>8</td>\n",
       "      <td>6-10</td>\n",
       "    </tr>\n",
       "    <tr>\n",
       "      <th>2</th>\n",
       "      <td>youtube.com</td>\n",
       "      <td>youtube</td>\n",
       "      <td>com</td>\n",
       "      <td>7</td>\n",
       "      <td>6-10</td>\n",
       "    </tr>\n",
       "    <tr>\n",
       "      <th>3</th>\n",
       "      <td>microsoft.com</td>\n",
       "      <td>microsoft</td>\n",
       "      <td>com</td>\n",
       "      <td>9</td>\n",
       "      <td>6-10</td>\n",
       "    </tr>\n",
       "    <tr>\n",
       "      <th>4</th>\n",
       "      <td>amazonaws.com</td>\n",
       "      <td>amazonaws</td>\n",
       "      <td>com</td>\n",
       "      <td>9</td>\n",
       "      <td>6-10</td>\n",
       "    </tr>\n",
       "    <tr>\n",
       "      <th>5</th>\n",
       "      <td>twitter.com</td>\n",
       "      <td>twitter</td>\n",
       "      <td>com</td>\n",
       "      <td>7</td>\n",
       "      <td>6-10</td>\n",
       "    </tr>\n",
       "    <tr>\n",
       "      <th>6</th>\n",
       "      <td>baidu.com</td>\n",
       "      <td>baidu</td>\n",
       "      <td>com</td>\n",
       "      <td>5</td>\n",
       "      <td>1-5</td>\n",
       "    </tr>\n",
       "    <tr>\n",
       "      <th>7</th>\n",
       "      <td>cloudflare.com</td>\n",
       "      <td>cloudflare</td>\n",
       "      <td>com</td>\n",
       "      <td>10</td>\n",
       "      <td>6-10</td>\n",
       "    </tr>\n",
       "    <tr>\n",
       "      <th>8</th>\n",
       "      <td>instagram.com</td>\n",
       "      <td>instagram</td>\n",
       "      <td>com</td>\n",
       "      <td>9</td>\n",
       "      <td>6-10</td>\n",
       "    </tr>\n",
       "    <tr>\n",
       "      <th>9</th>\n",
       "      <td>apple.com</td>\n",
       "      <td>apple</td>\n",
       "      <td>com</td>\n",
       "      <td>5</td>\n",
       "      <td>1-5</td>\n",
       "    </tr>\n",
       "  </tbody>\n",
       "</table>\n",
       "</div>"
      ],
      "text/plain": [
       "              url      domain  tld  domain_length domain_length_group\n",
       "0    facebook.com    facebook  com              8                6-10\n",
       "1    a-msedge.net    a-msedge  net              8                6-10\n",
       "2     youtube.com     youtube  com              7                6-10\n",
       "3   microsoft.com   microsoft  com              9                6-10\n",
       "4   amazonaws.com   amazonaws  com              9                6-10\n",
       "5     twitter.com     twitter  com              7                6-10\n",
       "6       baidu.com       baidu  com              5                 1-5\n",
       "7  cloudflare.com  cloudflare  com             10                6-10\n",
       "8   instagram.com   instagram  com              9                6-10\n",
       "9       apple.com       apple  com              5                 1-5"
      ]
     },
     "execution_count": 7,
     "metadata": {},
     "output_type": "execute_result"
    }
   ],
   "source": [
    "tranco_data['domain'] = tranco_data['url'].apply(extract_domain)\n",
    "tranco_data['tld'] = tranco_data['url'].apply(extract_tld)\n",
    "tranco_data['domain_length'] = tranco_data['domain'].apply(lambda x: len(x))\n",
    "bins = [0, 5, 10, 15, float('inf')]\n",
    "labels = ['1-5', '6-10', '11-15', '16+']\n",
    "tranco_data['domain_length_group'] = pd.cut(tranco_data['domain_length'], bins=bins, labels=labels)\n",
    "tranco_data.head(10)"
   ]
  },
  {
   "cell_type": "code",
   "execution_count": 8,
   "metadata": {},
   "outputs": [
    {
     "data": {
      "text/html": [
       "<div>\n",
       "<style scoped>\n",
       "    .dataframe tbody tr th:only-of-type {\n",
       "        vertical-align: middle;\n",
       "    }\n",
       "\n",
       "    .dataframe tbody tr th {\n",
       "        vertical-align: top;\n",
       "    }\n",
       "\n",
       "    .dataframe thead th {\n",
       "        text-align: right;\n",
       "    }\n",
       "</style>\n",
       "<table border=\"1\" class=\"dataframe\">\n",
       "  <thead>\n",
       "    <tr style=\"text-align: right;\">\n",
       "      <th></th>\n",
       "      <th>url</th>\n",
       "      <th>domain</th>\n",
       "      <th>tld</th>\n",
       "      <th>domain_length</th>\n",
       "      <th>domain_length_group</th>\n",
       "    </tr>\n",
       "  </thead>\n",
       "  <tbody>\n",
       "    <tr>\n",
       "      <th>0</th>\n",
       "      <td>google.com</td>\n",
       "      <td>google</td>\n",
       "      <td>com</td>\n",
       "      <td>6</td>\n",
       "      <td>6-10</td>\n",
       "    </tr>\n",
       "    <tr>\n",
       "      <th>1</th>\n",
       "      <td>facebook.com</td>\n",
       "      <td>facebook</td>\n",
       "      <td>com</td>\n",
       "      <td>8</td>\n",
       "      <td>6-10</td>\n",
       "    </tr>\n",
       "    <tr>\n",
       "      <th>2</th>\n",
       "      <td>youtube.com</td>\n",
       "      <td>youtube</td>\n",
       "      <td>com</td>\n",
       "      <td>7</td>\n",
       "      <td>6-10</td>\n",
       "    </tr>\n",
       "    <tr>\n",
       "      <th>3</th>\n",
       "      <td>twitter.com</td>\n",
       "      <td>twitter</td>\n",
       "      <td>com</td>\n",
       "      <td>7</td>\n",
       "      <td>6-10</td>\n",
       "    </tr>\n",
       "    <tr>\n",
       "      <th>4</th>\n",
       "      <td>instagram.com</td>\n",
       "      <td>instagram</td>\n",
       "      <td>com</td>\n",
       "      <td>9</td>\n",
       "      <td>6-10</td>\n",
       "    </tr>\n",
       "    <tr>\n",
       "      <th>5</th>\n",
       "      <td>linkedin.com</td>\n",
       "      <td>linkedin</td>\n",
       "      <td>com</td>\n",
       "      <td>8</td>\n",
       "      <td>6-10</td>\n",
       "    </tr>\n",
       "    <tr>\n",
       "      <th>6</th>\n",
       "      <td>apple.com</td>\n",
       "      <td>apple</td>\n",
       "      <td>com</td>\n",
       "      <td>5</td>\n",
       "      <td>1-5</td>\n",
       "    </tr>\n",
       "    <tr>\n",
       "      <th>7</th>\n",
       "      <td>microsoft.com</td>\n",
       "      <td>microsoft</td>\n",
       "      <td>com</td>\n",
       "      <td>9</td>\n",
       "      <td>6-10</td>\n",
       "    </tr>\n",
       "    <tr>\n",
       "      <th>8</th>\n",
       "      <td>wikipedia.org</td>\n",
       "      <td>wikipedia</td>\n",
       "      <td>org</td>\n",
       "      <td>9</td>\n",
       "      <td>6-10</td>\n",
       "    </tr>\n",
       "    <tr>\n",
       "      <th>9</th>\n",
       "      <td>googletagmanager.com</td>\n",
       "      <td>googletagmanager</td>\n",
       "      <td>com</td>\n",
       "      <td>16</td>\n",
       "      <td>16+</td>\n",
       "    </tr>\n",
       "  </tbody>\n",
       "</table>\n",
       "</div>"
      ],
      "text/plain": [
       "                    url            domain  tld  domain_length  \\\n",
       "0            google.com            google  com              6   \n",
       "1          facebook.com          facebook  com              8   \n",
       "2           youtube.com           youtube  com              7   \n",
       "3           twitter.com           twitter  com              7   \n",
       "4         instagram.com         instagram  com              9   \n",
       "5          linkedin.com          linkedin  com              8   \n",
       "6             apple.com             apple  com              5   \n",
       "7         microsoft.com         microsoft  com              9   \n",
       "8         wikipedia.org         wikipedia  org              9   \n",
       "9  googletagmanager.com  googletagmanager  com             16   \n",
       "\n",
       "  domain_length_group  \n",
       "0                6-10  \n",
       "1                6-10  \n",
       "2                6-10  \n",
       "3                6-10  \n",
       "4                6-10  \n",
       "5                6-10  \n",
       "6                 1-5  \n",
       "7                6-10  \n",
       "8                6-10  \n",
       "9                 16+  "
      ]
     },
     "execution_count": 8,
     "metadata": {},
     "output_type": "execute_result"
    }
   ],
   "source": [
    "mm_data['domain'] = mm_data['url'].apply(extract_domain)\n",
    "mm_data['tld'] = mm_data['url'].apply(extract_tld)\n",
    "mm_data['domain_length'] = mm_data['domain'].apply(lambda x: len(x))\n",
    "bins = [0, 5, 10, 15, float('inf')]\n",
    "labels = ['1-5', '6-10', '11-15', '16+']\n",
    "mm_data['domain_length_group'] = pd.cut(mm_data['domain_length'], bins=bins, labels=labels)\n",
    "mm_data.head(10)"
   ]
  },
  {
   "cell_type": "code",
   "execution_count": 9,
   "metadata": {},
   "outputs": [
    {
     "data": {
      "text/html": [
       "<div>\n",
       "<style scoped>\n",
       "    .dataframe tbody tr th:only-of-type {\n",
       "        vertical-align: middle;\n",
       "    }\n",
       "\n",
       "    .dataframe tbody tr th {\n",
       "        vertical-align: top;\n",
       "    }\n",
       "\n",
       "    .dataframe thead th {\n",
       "        text-align: right;\n",
       "    }\n",
       "</style>\n",
       "<table border=\"1\" class=\"dataframe\">\n",
       "  <thead>\n",
       "    <tr style=\"text-align: right;\">\n",
       "      <th></th>\n",
       "      <th>url</th>\n",
       "      <th>domain</th>\n",
       "      <th>tld</th>\n",
       "      <th>domain_length</th>\n",
       "      <th>domain_length_group</th>\n",
       "    </tr>\n",
       "  </thead>\n",
       "  <tbody>\n",
       "    <tr>\n",
       "      <th>0</th>\n",
       "      <td>vysodagiva0.xhost.ro</td>\n",
       "      <td>xhost</td>\n",
       "      <td>ro</td>\n",
       "      <td>5</td>\n",
       "      <td>1-5</td>\n",
       "    </tr>\n",
       "    <tr>\n",
       "      <th>1</th>\n",
       "      <td>188.128.111.33</td>\n",
       "      <td>188.128.111.33</td>\n",
       "      <td>188.128.111.33</td>\n",
       "      <td>14</td>\n",
       "      <td>11-15</td>\n",
       "    </tr>\n",
       "    <tr>\n",
       "      <th>2</th>\n",
       "      <td>115.28.157.120</td>\n",
       "      <td>115.28.157.120</td>\n",
       "      <td>115.28.157.120</td>\n",
       "      <td>14</td>\n",
       "      <td>11-15</td>\n",
       "    </tr>\n",
       "    <tr>\n",
       "      <th>3</th>\n",
       "      <td>woodfloorcreations.com</td>\n",
       "      <td>woodfloorcreations</td>\n",
       "      <td>com</td>\n",
       "      <td>18</td>\n",
       "      <td>16+</td>\n",
       "    </tr>\n",
       "    <tr>\n",
       "      <th>4</th>\n",
       "      <td>115.28.157.120</td>\n",
       "      <td>115.28.157.120</td>\n",
       "      <td>115.28.157.120</td>\n",
       "      <td>14</td>\n",
       "      <td>11-15</td>\n",
       "    </tr>\n",
       "    <tr>\n",
       "      <th>5</th>\n",
       "      <td>115.28.157.120</td>\n",
       "      <td>115.28.157.120</td>\n",
       "      <td>115.28.157.120</td>\n",
       "      <td>14</td>\n",
       "      <td>11-15</td>\n",
       "    </tr>\n",
       "    <tr>\n",
       "      <th>6</th>\n",
       "      <td>hghsuppliers.com</td>\n",
       "      <td>hghsuppliers</td>\n",
       "      <td>com</td>\n",
       "      <td>12</td>\n",
       "      <td>11-15</td>\n",
       "    </tr>\n",
       "    <tr>\n",
       "      <th>7</th>\n",
       "      <td>marcaldeataide.com.br</td>\n",
       "      <td>com</td>\n",
       "      <td>br</td>\n",
       "      <td>3</td>\n",
       "      <td>1-5</td>\n",
       "    </tr>\n",
       "    <tr>\n",
       "      <th>8</th>\n",
       "      <td>citymarket.imperiavkusov.ru</td>\n",
       "      <td>imperiavkusov</td>\n",
       "      <td>ru</td>\n",
       "      <td>13</td>\n",
       "      <td>11-15</td>\n",
       "    </tr>\n",
       "    <tr>\n",
       "      <th>9</th>\n",
       "      <td>semazen.net</td>\n",
       "      <td>semazen</td>\n",
       "      <td>net</td>\n",
       "      <td>7</td>\n",
       "      <td>6-10</td>\n",
       "    </tr>\n",
       "  </tbody>\n",
       "</table>\n",
       "</div>"
      ],
      "text/plain": [
       "                           url              domain             tld  \\\n",
       "0         vysodagiva0.xhost.ro               xhost              ro   \n",
       "1               188.128.111.33      188.128.111.33  188.128.111.33   \n",
       "2               115.28.157.120      115.28.157.120  115.28.157.120   \n",
       "3       woodfloorcreations.com  woodfloorcreations             com   \n",
       "4               115.28.157.120      115.28.157.120  115.28.157.120   \n",
       "5               115.28.157.120      115.28.157.120  115.28.157.120   \n",
       "6             hghsuppliers.com        hghsuppliers             com   \n",
       "7        marcaldeataide.com.br                 com              br   \n",
       "8  citymarket.imperiavkusov.ru       imperiavkusov              ru   \n",
       "9                  semazen.net             semazen             net   \n",
       "\n",
       "   domain_length domain_length_group  \n",
       "0              5                 1-5  \n",
       "1             14               11-15  \n",
       "2             14               11-15  \n",
       "3             18                 16+  \n",
       "4             14               11-15  \n",
       "5             14               11-15  \n",
       "6             12               11-15  \n",
       "7              3                 1-5  \n",
       "8             13               11-15  \n",
       "9              7                6-10  "
      ]
     },
     "execution_count": 9,
     "metadata": {},
     "output_type": "execute_result"
    }
   ],
   "source": [
    "phish_data['domain'] = phish_data['url'].apply(extract_domain)\n",
    "phish_data['tld'] = phish_data['url'].apply(extract_tld)\n",
    "phish_data['domain_length'] = phish_data['domain'].apply(lambda x: len(x))\n",
    "bins = [0, 5, 10, 15, float('inf')]\n",
    "labels = ['1-5', '6-10', '11-15', '16+']\n",
    "phish_data['domain_length_group'] = pd.cut(phish_data['domain_length'], bins=bins, labels=labels)\n",
    "phish_data.head(10)"
   ]
  },
  {
   "cell_type": "code",
   "execution_count": 10,
   "metadata": {},
   "outputs": [
    {
     "data": {
      "text/html": [
       "<div>\n",
       "<style scoped>\n",
       "    .dataframe tbody tr th:only-of-type {\n",
       "        vertical-align: middle;\n",
       "    }\n",
       "\n",
       "    .dataframe tbody tr th {\n",
       "        vertical-align: top;\n",
       "    }\n",
       "\n",
       "    .dataframe thead th {\n",
       "        text-align: right;\n",
       "    }\n",
       "</style>\n",
       "<table border=\"1\" class=\"dataframe\">\n",
       "  <thead>\n",
       "    <tr style=\"text-align: right;\">\n",
       "      <th></th>\n",
       "      <th>url</th>\n",
       "      <th>domain</th>\n",
       "      <th>tld</th>\n",
       "      <th>domain_length</th>\n",
       "      <th>domain_length_group</th>\n",
       "    </tr>\n",
       "  </thead>\n",
       "  <tbody>\n",
       "    <tr>\n",
       "      <th>0</th>\n",
       "      <td>ns1.backdates0.org</td>\n",
       "      <td>backdates0</td>\n",
       "      <td>org</td>\n",
       "      <td>10</td>\n",
       "      <td>6-10</td>\n",
       "    </tr>\n",
       "    <tr>\n",
       "      <th>1</th>\n",
       "      <td>ns1.backdates10.com</td>\n",
       "      <td>backdates10</td>\n",
       "      <td>com</td>\n",
       "      <td>11</td>\n",
       "      <td>11-15</td>\n",
       "    </tr>\n",
       "    <tr>\n",
       "      <th>2</th>\n",
       "      <td>ns1.backdates12.com</td>\n",
       "      <td>backdates12</td>\n",
       "      <td>com</td>\n",
       "      <td>11</td>\n",
       "      <td>11-15</td>\n",
       "    </tr>\n",
       "    <tr>\n",
       "      <th>3</th>\n",
       "      <td>ns1.backdates14.com</td>\n",
       "      <td>backdates14</td>\n",
       "      <td>com</td>\n",
       "      <td>11</td>\n",
       "      <td>11-15</td>\n",
       "    </tr>\n",
       "    <tr>\n",
       "      <th>4</th>\n",
       "      <td>ns1.backdates18.com</td>\n",
       "      <td>backdates18</td>\n",
       "      <td>com</td>\n",
       "      <td>11</td>\n",
       "      <td>11-15</td>\n",
       "    </tr>\n",
       "    <tr>\n",
       "      <th>5</th>\n",
       "      <td>ns1.backdates20.com</td>\n",
       "      <td>backdates20</td>\n",
       "      <td>com</td>\n",
       "      <td>11</td>\n",
       "      <td>11-15</td>\n",
       "    </tr>\n",
       "    <tr>\n",
       "      <th>6</th>\n",
       "      <td>ns1.backdates2.org</td>\n",
       "      <td>backdates2</td>\n",
       "      <td>org</td>\n",
       "      <td>10</td>\n",
       "      <td>6-10</td>\n",
       "    </tr>\n",
       "    <tr>\n",
       "      <th>7</th>\n",
       "      <td>ns1.backdates3.org</td>\n",
       "      <td>backdates3</td>\n",
       "      <td>org</td>\n",
       "      <td>10</td>\n",
       "      <td>6-10</td>\n",
       "    </tr>\n",
       "    <tr>\n",
       "      <th>8</th>\n",
       "      <td>ns1.backdates4.org</td>\n",
       "      <td>backdates4</td>\n",
       "      <td>org</td>\n",
       "      <td>10</td>\n",
       "      <td>6-10</td>\n",
       "    </tr>\n",
       "    <tr>\n",
       "      <th>9</th>\n",
       "      <td>ns1.backdates5.org</td>\n",
       "      <td>backdates5</td>\n",
       "      <td>org</td>\n",
       "      <td>10</td>\n",
       "      <td>6-10</td>\n",
       "    </tr>\n",
       "  </tbody>\n",
       "</table>\n",
       "</div>"
      ],
      "text/plain": [
       "                   url       domain  tld  domain_length domain_length_group\n",
       "0   ns1.backdates0.org   backdates0  org             10                6-10\n",
       "1  ns1.backdates10.com  backdates10  com             11               11-15\n",
       "2  ns1.backdates12.com  backdates12  com             11               11-15\n",
       "3  ns1.backdates14.com  backdates14  com             11               11-15\n",
       "4  ns1.backdates18.com  backdates18  com             11               11-15\n",
       "5  ns1.backdates20.com  backdates20  com             11               11-15\n",
       "6   ns1.backdates2.org   backdates2  org             10                6-10\n",
       "7   ns1.backdates3.org   backdates3  org             10                6-10\n",
       "8   ns1.backdates4.org   backdates4  org             10                6-10\n",
       "9   ns1.backdates5.org   backdates5  org             10                6-10"
      ]
     },
     "execution_count": 10,
     "metadata": {},
     "output_type": "execute_result"
    }
   ],
   "source": [
    "c2_data['domain'] = c2_data['url'].apply(extract_domain)\n",
    "c2_data['tld'] = c2_data['url'].apply(extract_tld)\n",
    "c2_data['domain_length'] = c2_data['domain'].apply(lambda x: len(x))\n",
    "bins = [0, 5, 10, 15, float('inf')]\n",
    "labels = ['1-5', '6-10', '11-15', '16+']\n",
    "c2_data['domain_length_group'] = pd.cut(c2_data['domain_length'], bins=bins, labels=labels)\n",
    "c2_data.head(10)"
   ]
  },
  {
   "cell_type": "markdown",
   "metadata": {},
   "source": [
    "Task 3"
   ]
  },
  {
   "cell_type": "code",
   "execution_count": 11,
   "metadata": {},
   "outputs": [
    {
     "data": {
      "image/png": "[encoded data removed]",
      "text/plain": [
       "<Figure size 800x600 with 1 Axes>"
      ]
     },
     "metadata": {},
     "output_type": "display_data"
    }
   ],
   "source": [
    "plt.figure(figsize=(8, 6))\n",
    "tranco_data.groupby('domain_length_group').size().plot(kind='bar')\n",
    "plt.title('Counts of Domain Length Groups in the Tranco Dataset')\n",
    "plt.xlabel('Domain Length Groups')\n",
    "plt.ylabel('Counts')\n",
    "plt.xticks(rotation=0)\n",
    "plt.show()"
   ]
  },
  {
   "cell_type": "code",
   "execution_count": 12,
   "metadata": {},
   "outputs": [
    {
     "data": {
      "image/png": "[encoded data removed]",
      "text/plain": [
       "<Figure size 800x600 with 1 Axes>"
      ]
     },
     "metadata": {},
     "output_type": "display_data"
    }
   ],
   "source": [
    "plt.figure(figsize=(8, 6))\n",
    "mm_data.groupby('domain_length_group').size().plot(kind='bar')\n",
    "plt.title('Counts of Domain Length Groups in the Majestic Dataset')\n",
    "plt.xlabel('Domain Length Groups')\n",
    "plt.ylabel('Counts')\n",
    "plt.xticks(rotation=0)\n",
    "plt.show()"
   ]
  },
  {
   "cell_type": "code",
   "execution_count": 13,
   "metadata": {},
   "outputs": [
    {
     "data": {
      "image/png": "[encoded data removed]",
      "text/plain": [
       "<Figure size 800x600 with 1 Axes>"
      ]
     },
     "metadata": {},
     "output_type": "display_data"
    }
   ],
   "source": [
    "plt.figure(figsize=(8, 6))\n",
    "phish_data.groupby('domain_length_group').size().plot(kind='bar')\n",
    "plt.title('Counts of Domain Length Groups in the Phishing Dataset')\n",
    "plt.xlabel('Domain Length Groups')\n",
    "plt.ylabel('Counts')\n",
    "plt.xticks(rotation=0)\n",
    "plt.show()"
   ]
  },
  {
   "cell_type": "code",
   "execution_count": 14,
   "metadata": {},
   "outputs": [
    {
     "data": {
      "image/png": "[encoded data removed]",
      "text/plain": [
       "<Figure size 800x600 with 1 Axes>"
      ]
     },
     "metadata": {},
     "output_type": "display_data"
    }
   ],
   "source": [
    "plt.figure(figsize=(8, 6))\n",
    "c2_data.groupby('domain_length_group').size().plot(kind='bar')\n",
    "plt.title('Counts of Domain Length Groups in the C&C Dataset')\n",
    "plt.xlabel('Domain Length Groups')\n",
    "plt.ylabel('Counts')\n",
    "plt.xticks(rotation=0)\n",
    "plt.show()"
   ]
  },
  {
   "cell_type": "markdown",
   "metadata": {},
   "source": [
    "task 4"
   ]
  },
  {
   "cell_type": "code",
   "execution_count": 15,
   "metadata": {},
   "outputs": [
    {
     "name": "stdout",
     "output_type": "stream",
     "text": [
      "Benign Data Sets\n",
      "The average length of the domain in the Tranco Data set is: 7.16\n",
      "The average length of the domain in the Majestic Data set is: 6.41 \n",
      "\n",
      "Malicious Data Sets\n",
      "The average length of the domain in the C&C Data set is: 10.18\n",
      "The average length of the domain in the Phishing Data set is: 10.76 \n",
      "\n",
      "Benign VS. Malicious Average Length of Domain\n",
      "The average length of the domain in the benign data sets is: 6.785\n",
      "The average length of the domain in the malicious data sets is: 10.47\n"
     ]
    }
   ],
   "source": [
    "#benign\n",
    "adl_tranco = tranco_data['domain'].apply(len).mean()\n",
    "adl_mm = mm_data['domain'].apply(len).mean()\n",
    "#malicous\n",
    "adl_c2 = c2_data['domain'].apply(len).mean()\n",
    "adl_phish = phish_data['domain'].apply(len).mean()\n",
    "\n",
    "adl_benign = (adl_tranco + adl_mm)/2\n",
    "adl_mal = (adl_c2 + adl_phish)/2\n",
    "\n",
    "print(\"Benign Data Sets\")\n",
    "print(\"The average length of the domain in the Tranco Data set is:\", adl_tranco)\n",
    "print(\"The average length of the domain in the Majestic Data set is:\", adl_mm, \"\\n\")\n",
    "print(\"Malicious Data Sets\")\n",
    "print(\"The average length of the domain in the C&C Data set is:\", adl_c2)\n",
    "print(\"The average length of the domain in the Phishing Data set is:\", adl_phish, \"\\n\")\n",
    "\n",
    "print(\"Benign VS. Malicious Average Length of Domain\")\n",
    "print(\"The average length of the domain in the benign data sets is:\", adl_benign)\n",
    "print(\"The average length of the domain in the malicious data sets is: {:.2f}\".format(adl_mal))"
   ]
  },
  {
   "cell_type": "markdown",
   "metadata": {},
   "source": [
    "Task 5"
   ]
  },
  {
   "cell_type": "code",
   "execution_count": 16,
   "metadata": {},
   "outputs": [
    {
     "name": "stdout",
     "output_type": "stream",
     "text": [
      "Benign Data Sets\n",
      "The average digit counts in the Tranco Data set is: 0.07\n",
      "The average digit counts in the Majestic Data set is: 0.01 \n",
      "\n",
      "Malicious Data Sets\n",
      "The average digit counts in the C&C Data set is: 1.24\n",
      "The average digit counts in the Phishing Data set is: 0.48 \n",
      "\n",
      "Benign VS. Malicious Average Digit Counts\n",
      "Average of digit counts in Benign data sets is: 0.04\n",
      "Average of digit counts in Malicious data sets is: 0.86\n"
     ]
    }
   ],
   "source": [
    "tranco_data['digit_count'] = tranco_data['domain'].apply(lambda x: sum(c.isdigit() for c in x))\n",
    "mm_data['digit_count'] = mm_data['domain'].apply(lambda x: sum(c.isdigit() for c in x))\n",
    "\n",
    "c2_data['digit_count'] = c2_data['domain'].apply(lambda x: sum(c.isdigit() for c in x))\n",
    "phish_data['digit_count'] = phish_data['domain'].apply(lambda x: sum(c.isdigit() for c in x))\n",
    "\n",
    "adc_tranco = tranco_data['digit_count'].mean()\n",
    "adc_mm = mm_data['digit_count'].mean()\n",
    "\n",
    "adc_c2 = c2_data['digit_count'].mean()\n",
    "adc_phish = phish_data['digit_count'].mean()\n",
    "\n",
    "adc_benign = (adc_tranco + adc_mm)/2\n",
    "adc_mal = (adc_c2 + adc_phish)/2\n",
    "\n",
    "print(\"Benign Data Sets\")\n",
    "print(\"The average digit counts in the Tranco Data set is:\", adc_tranco)\n",
    "print(\"The average digit counts in the Majestic Data set is:\", adc_mm, \"\\n\")\n",
    "print(\"Malicious Data Sets\")\n",
    "print(\"The average digit counts in the C&C Data set is:\", adc_c2)\n",
    "print(\"The average digit counts in the Phishing Data set is:\", adc_phish, \"\\n\")\n",
    "\n",
    "print(\"Benign VS. Malicious Average Digit Counts\")\n",
    "print(\"Average of digit counts in Benign data sets is:\", adc_benign)\n",
    "print(\"Average of digit counts in Malicious data sets is: {:.2f}\".format(adc_mal))"
   ]
  },
  {
   "cell_type": "markdown",
   "metadata": {},
   "source": [
    "Task 6"
   ]
  },
  {
   "cell_type": "code",
   "execution_count": 17,
   "metadata": {},
   "outputs": [
    {
     "name": "stdout",
     "output_type": "stream",
     "text": [
      "Benign Data Sets\n",
      "The average unique character counts in the Tranco Data set is: 5.94\n",
      "The average unique character counts in the Majestic Data set is: 5.22 \n",
      "\n",
      "Malicious Data Sets\n",
      "The average unique character counts in the C&C Data set is: 8.16\n",
      "The average unique character counts in the Phishing Data set is: 7.64 \n",
      "\n",
      "Benign vs Malicious Average Unnique Character counts\n",
      "Average of unique character counts in benign data sets is: 5.58\n",
      "Average of unique character counts in malicious data sets is: 7.90\n"
     ]
    }
   ],
   "source": [
    "tranco_data['unique_char_count'] = tranco_data['domain'].apply(lambda x: len(set(x)))\n",
    "mm_data['unique_char_count'] = mm_data['domain'].apply(lambda x: len(set(x)))\n",
    "\n",
    "c2_data['unique_char_count'] = c2_data['domain'].apply(lambda x: len(set(x)))\n",
    "phish_data['unique_char_count'] = phish_data['domain'].apply(lambda x: len(set(x)))\n",
    "\n",
    "ucc_tranco = tranco_data['unique_char_count'].mean()\n",
    "ucc_mm = mm_data['unique_char_count'].mean()\n",
    "\n",
    "ucc_c2 = c2_data['unique_char_count'].mean()\n",
    "ucc_phish = phish_data['unique_char_count'].mean()\n",
    "\n",
    "ucc_benign = (ucc_tranco + ucc_mm)/2\n",
    "ucc_mal = (ucc_c2 + ucc_phish)/2\n",
    "\n",
    "print(\"Benign Data Sets\")\n",
    "print(\"The average unique character counts in the Tranco Data set is:\", ucc_tranco)\n",
    "print(\"The average unique character counts in the Majestic Data set is:\", ucc_mm, \"\\n\")\n",
    "print(\"Malicious Data Sets\")\n",
    "print(\"The average unique character counts in the C&C Data set is:\", ucc_c2)\n",
    "print(\"The average unique character counts in the Phishing Data set is:\", ucc_phish, \"\\n\")\n",
    "\n",
    "print(\"Benign vs Malicious Average Unnique Character counts\")\n",
    "print(\"Average of unique character counts in benign data sets is:\", ucc_benign)\n",
    "print(\"Average of unique character counts in malicious data sets is: {:.2f}\".format(ucc_mal))"
   ]
  },
  {
   "cell_type": "markdown",
   "metadata": {},
   "source": [
    "Task 7"
   ]
  },
  {
   "cell_type": "code",
   "execution_count": 23,
   "metadata": {},
   "outputs": [
    {
     "name": "stdout",
     "output_type": "stream",
     "text": [
      "Benign Datasets\n",
      "Top 3 TLD's for the Tranco dataset\n",
      "com    63.00 %\n",
      "net    22.00 %\n",
      "org     3.00 % \n",
      "\n",
      "Top 3 TLD's for the Majestic dataset\n",
      "com    69.00 %\n",
      "org    11.00 %\n",
      "gov     3.00 % \n",
      "\n",
      "Malicious Datasets\n",
      "Top 3 TLD's for the C&C dataset\n",
      "com    59.00 %\n",
      "org    27.00 %\n",
      "net     9.00 % \n",
      "\n",
      "Top 3 TLD's for the Phishing dataset\n",
      "com    45.00 %\n",
      "net    11.00 %\n",
      "org    10.00 % \n",
      "\n"
     ]
    }
   ],
   "source": [
    "#benign\n",
    "tc_tranco = tranco_data['tld'].value_counts(normalize=True) * 100\n",
    "tc_mm = mm_data['tld'].value_counts(normalize=True) * 100\n",
    "#malicous\n",
    "tc_c2 = c2_data['tld'].value_counts(normalize=True) * 100 \n",
    "tc_phish = phish_data['tld'].value_counts(normalize=True) * 100\n",
    "# report the top 3 TLD distributions\n",
    "top_3_tranco = tc_tranco[:3].apply(lambda x: '{:.2f} %'.format(x))\n",
    "top_3_mm = tc_mm[:3].apply(lambda x: '{:.2f} %'.format(x))\n",
    "top_3_c2 = tc_c2[:3].apply(lambda x: '{:.2f} %'.format(x))\n",
    "top_3_phish = tc_phish[:3].apply(lambda x: '{:.2f} %'.format(x))\n",
    "\n",
    "print(\"Benign Datasets\")\n",
    "print(\"Top 3 TLD's for the Tranco dataset\")\n",
    "print(top_3_tranco.to_string(header=False),\"\\n\")\n",
    "print(\"Top 3 TLD's for the Majestic dataset\")\n",
    "print(top_3_mm.to_string(header=False),\"\\n\")\n",
    "print(\"Malicious Datasets\")\n",
    "print(\"Top 3 TLD's for the C&C dataset\")\n",
    "print(top_3_c2.to_string(header=False),\"\\n\")\n",
    "print(\"Top 3 TLD's for the Phishing dataset\")\n",
    "print(top_3_phish.to_string(header=False),\"\\n\")\n"
   ]
  }
 ],
 "metadata": {
  "kernelspec": {
   "display_name": "Python 3 (ipykernel)",
   "language": "python",
   "name": "python3"
  },
  "language_info": {
   "codemirror_mode": {
    "name": "ipython",
    "version": 3
   },
   "file_extension": ".py",
   "mimetype": "text/x-python",
   "name": "python",
   "nbconvert_exporter": "python",
   "pygments_lexer": "ipython3",
   "version": "3.9.13"
  }
 },
 "nbformat": 4,
 "nbformat_minor": 2
}
