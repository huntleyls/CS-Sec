{
 "cells": [
  {
   "cell_type": "code",
   "execution_count": 5,
   "id": "c4bda9f2",
   "metadata": {},
   "outputs": [],
   "source": [
    "import pandas as pd\n",
    "import reverse_geocoder as rg\n"
   ]
  },
  {
   "cell_type": "code",
   "execution_count": 6,
   "id": "6e13cba7",
   "metadata": {},
   "outputs": [],
   "source": [
    "office_data = pd.read_csv(\"office_locations.csv\")\n",
    "log_data = pd.read_csv(\"datalog.csv\")\n",
    "emp_data = pd.read_csv(\"employee_details.csv\")\n",
    "dept_data = pd.read_csv(\"dept_resources.csv\")\n",
    "\n"
   ]
  },
  {
   "cell_type": "code",
   "execution_count": null,
   "id": "8696031a",
   "metadata": {},
   "outputs": [],
   "source": [
    "office_datadata"
   ]
  }
 ],
 "metadata": {
  "kernelspec": {
   "display_name": "Python 3 (ipykernel)",
   "language": "python",
   "name": "python3"
  },
  "language_info": {
   "codemirror_mode": {
    "name": "ipython",
    "version": 3
   },
   "file_extension": ".py",
   "mimetype": "text/x-python",
   "name": "python",
   "nbconvert_exporter": "python",
   "pygments_lexer": "ipython3",
   "version": "3.9.13"
  }
 },
 "nbformat": 4,
 "nbformat_minor": 5
}
